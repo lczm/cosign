{
 "cells": [
  {
   "cell_type": "markdown",
   "metadata": {},
   "source": [
    "### Imports"
   ]
  },
  {
   "cell_type": "code",
   "execution_count": 1,
   "metadata": {},
   "outputs": [],
   "source": [
    "import numpy as np\n",
    "import pickle\n",
    "import sklearn\n",
    "import matplotlib.pyplot as plt\n",
    "\n",
    "from sklearn.model_selection import train_test_split, GridSearchCV\n",
    "from sklearn.ensemble import RandomForestClassifier, ExtraTreesClassifier\n",
    "from sklearn.svm import SVC\n",
    "from sklearn.metrics import accuracy_score\n",
    "from sklearn.base import clone"
   ]
  },
  {
   "cell_type": "markdown",
   "metadata": {},
   "source": [
    "### Load Data"
   ]
  },
  {
   "cell_type": "code",
   "execution_count": 2,
   "metadata": {},
   "outputs": [],
   "source": [
    "# X = np.load('X.npy')\n",
    "# X = np.load('X_left.npy')\n",
    "X = np.load('X_right.npy')\n",
    "y = np.load('y.npy')"
   ]
  },
  {
   "cell_type": "markdown",
   "metadata": {},
   "source": [
    "### Split Test Train"
   ]
  },
  {
   "cell_type": "code",
   "execution_count": 3,
   "metadata": {},
   "outputs": [],
   "source": [
    "X_train, X_test, y_train, y_test = train_test_split(\n",
    "    X, y, test_size=0.1, shuffle=True, random_state=0)"
   ]
  },
  {
   "cell_type": "markdown",
   "metadata": {},
   "source": [
    "### Learning Curve"
   ]
  },
  {
   "cell_type": "code",
   "execution_count": 4,
   "metadata": {},
   "outputs": [],
   "source": [
    "def learning_curve(model, X_train, X_test, y_train, y_test):\n",
    "    train_scores = []\n",
    "    test_scores = []\n",
    "    \n",
    "    for i in np.arange(0.1, 1.1, 0.1):\n",
    "        train_size = int(len(X_train) * i)\n",
    "        X_train_ = X_train[:train_size]\n",
    "        y_train_ = y_train[:train_size]\n",
    "        \n",
    "        model_ = clone(model)\n",
    "        model_.fit(X_train_, y_train_)\n",
    "        train_pred = model_.predict(X_train_)\n",
    "        test_pred = model_.predict(X_test)\n",
    "        \n",
    "        train_acc = accuracy_score(y_train_, train_pred)\n",
    "        test_acc = accuracy_score(y_test, test_pred)\n",
    "        \n",
    "        train_scores.append(train_acc)\n",
    "        test_scores.append(test_acc)\n",
    "        \n",
    "        print(f'{int(i * 100)}%', end=' ')\n",
    "    print()\n",
    "        \n",
    "    plt.plot(train_scores, label='Train')\n",
    "    plt.plot(test_scores, label='Test')\n",
    "    plt.title('Learning Curve')\n",
    "    plt.ylabel('Accuracy')\n",
    "    plt.xlabel('% of Training Size')\n",
    "    plt.xticks(range(10), (np.arange(0.1, 1.1, 0.1) * 100).astype(int))\n",
    "    plt.ylim(0.0, 1.01)\n",
    "    plt.legend()\n",
    "    \n",
    "    print(f'Final Training Accuracy: {train_scores[-1] * 100}%')\n",
    "    print(f'Final Testing Accuracy: {test_scores[-1] * 100}%')"
   ]
  },
  {
   "cell_type": "markdown",
   "metadata": {},
   "source": [
    "### Models"
   ]
  },
  {
   "cell_type": "markdown",
   "metadata": {},
   "source": [
    "##### Random Forest Classifier"
   ]
  },
  {
   "cell_type": "code",
   "execution_count": 5,
   "metadata": {},
   "outputs": [
    {
     "name": "stdout",
     "output_type": "stream",
     "text": [
      "10% 20% 30% 40% 50% 60% 70% 80% 90% 100% \n",
      "Final Training Accuracy: 95.71615434924787%\n",
      "Final Testing Accuracy: 84.11764705882354%\n"
     ]
    },
    {
     "data": {
      "text/plain": [
       "RandomForestClassifier(bootstrap=True, class_weight=None, criterion='gini',\n",
       "                       max_depth=None, max_features='auto', max_leaf_nodes=None,\n",
       "                       min_impurity_decrease=0.0, min_impurity_split=None,\n",
       "                       min_samples_leaf=1, min_samples_split=2,\n",
       "                       min_weight_fraction_leaf=0.0, n_estimators=100,\n",
       "                       n_jobs=-1, oob_score=False, random_state=None, verbose=0,\n",
       "                       warm_start=False)"
      ]
     },
     "execution_count": 5,
     "metadata": {},
     "output_type": "execute_result"
    },
    {
     "data": {
      "image/png": "[encoded data removed]",
      "text/plain": [
       "<Figure size 432x288 with 1 Axes>"
      ]
     },
     "metadata": {
      "needs_background": "light"
     },
     "output_type": "display_data"
    }
   ],
   "source": [
    "rfc = RandomForestClassifier(n_estimators=100, n_jobs=-1)\n",
    "learning_curve(rfc, X_train, X_test, y_train, y_test)\n",
    "rfc.fit(X_train, y_train)"
   ]
  },
  {
   "cell_type": "markdown",
   "metadata": {},
   "source": [
    "### Save"
   ]
  },
  {
   "cell_type": "code",
   "execution_count": 6,
   "metadata": {},
   "outputs": [],
   "source": [
    "with open('rfc', 'wb') as file: pickle.dump(rfc, file)"
   ]
  }
 ],
 "metadata": {
  "kernelspec": {
   "display_name": "p2-unsigned-cpu",
   "language": "python",
   "name": "p2-unsigned-cpu"
  },
  "language_info": {
   "codemirror_mode": {
    "name": "ipython",
    "version": 3
   },
   "file_extension": ".py",
   "mimetype": "text/x-python",
   "name": "python",
   "nbconvert_exporter": "python",
   "pygments_lexer": "ipython3",
   "version": "3.7.5"
  }
 },
 "nbformat": 4,
 "nbformat_minor": 4
}
