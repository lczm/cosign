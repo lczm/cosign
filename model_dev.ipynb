{
 "cells": [
  {
   "cell_type": "markdown",
   "metadata": {},
   "source": [
    "### Imports"
   ]
  },
  {
   "cell_type": "code",
   "execution_count": 12,
   "metadata": {},
   "outputs": [],
   "source": [
    "import numpy as np\n",
    "import pickle\n",
    "import sklearn\n",
    "import matplotlib.pyplot as plt\n",
    "\n",
    "from sklearn.model_selection import train_test_split, GridSearchCV\n",
    "from sklearn.ensemble import RandomForestClassifier, ExtraTreesClassifier\n",
    "from sklearn.svm import SVC\n",
    "from sklearn.metrics import accuracy_score\n",
    "from sklearn.base import clone"
   ]
  },
  {
   "cell_type": "markdown",
   "metadata": {},
   "source": [
    "### Load Data"
   ]
  },
  {
   "cell_type": "code",
   "execution_count": 13,
   "metadata": {},
   "outputs": [],
   "source": [
    "with open('keypoints2.1', 'rb') as file:\n",
    "    data = pickle.load(file)"
   ]
  },
  {
   "cell_type": "markdown",
   "metadata": {},
   "source": [
    "#### Process By Gloss"
   ]
  },
  {
   "cell_type": "markdown",
   "metadata": {},
   "source": [
    "##### Relative Transformation"
   ]
  },
  {
   "cell_type": "code",
   "execution_count": 14,
   "metadata": {},
   "outputs": [],
   "source": [
    "def rel_transform_inplace(hand_keypoint):\n",
    "    hand_keypoint[0::3] -= hand_keypoint[0]\n",
    "    hand_keypoint[1::3] -= hand_keypoint[1]"
   ]
  },
  {
   "cell_type": "markdown",
   "metadata": {},
   "source": [
    "### Process Function"
   ]
  },
  {
   "cell_type": "code",
   "execution_count": 15,
   "metadata": {},
   "outputs": [],
   "source": [
    "X = []\n",
    "y = []\n",
    "gloss_map = []\n",
    "for index, (name, gloss) in enumerate(data.items()):\n",
    "    gloss_map.append(name)\n",
    "    xs = []\n",
    "    for frame in [frame \n",
    "        for variant in gloss.values() \n",
    "        for session in variant.values() \n",
    "        for frame in session]:\n",
    "        #left_keypoint = np.array(frame['hand_left_keypoints_2d'])\n",
    "        right_keypoint = np.array(frame['hand_right_keypoints_2d'])\n",
    "        #rel_transform_inplace(left_keypoint)\n",
    "        rel_transform_inplace(right_keypoint)\n",
    "        #xs.append(np.concatenate((left_keypoint, right_keypoint)))\n",
    "        xs.append(right_keypoint)\n",
    "    ys = np.full((len(xs)), index)\n",
    "    X.append(xs)\n",
    "    y.append(ys)\n",
    "X = np.concatenate(X, axis=0)\n",
    "y = np.concatenate(y)"
   ]
  },
  {
   "cell_type": "markdown",
   "metadata": {},
   "source": [
    "### Split Test Train"
   ]
  },
  {
   "cell_type": "code",
   "execution_count": 16,
   "metadata": {},
   "outputs": [],
   "source": [
    "X_train, X_test, y_train, y_test = train_test_split(X, y, test_size=0.7, shuffle=True, random_state=0)"
   ]
  },
  {
   "cell_type": "markdown",
   "metadata": {},
   "source": [
    "### Learning Curve"
   ]
  },
  {
   "cell_type": "code",
   "execution_count": 17,
   "metadata": {},
   "outputs": [],
   "source": [
    "def learning_curve(model, X_train, X_test, y_train, y_test):\n",
    "    train_scores = []\n",
    "    test_scores = []\n",
    "    \n",
    "    for i in np.arange(0.1, 1.1, 0.1):\n",
    "        train_size = int(len(X_train) * i)\n",
    "        X_train_ = X_train[:train_size]\n",
    "        y_train_ = y_train[:train_size]\n",
    "        \n",
    "        model_ = clone(model)\n",
    "        model_.fit(X_train_, y_train_)\n",
    "        train_pred = model_.predict(X_train_)\n",
    "        test_pred = model_.predict(X_test)\n",
    "        \n",
    "        train_acc = accuracy_score(y_train_, train_pred)\n",
    "        test_acc = accuracy_score(y_test, test_pred)\n",
    "        \n",
    "        train_scores.append(train_acc)\n",
    "        test_scores.append(test_acc)\n",
    "        \n",
    "        print(f'{int(i * 100)}%', end=' ')\n",
    "    print()\n",
    "        \n",
    "    plt.plot(train_scores, label='Train')\n",
    "    plt.plot(test_scores, label='Test')\n",
    "    plt.title('Learning Curve')\n",
    "    plt.ylabel('Accuracy')\n",
    "    plt.xlabel('% of Training Size')\n",
    "    plt.xticks(range(10), (np.arange(0.1, 1.1, 0.1) * 100).astype(int))\n",
    "    plt.ylim(0.0, 1.01)\n",
    "    plt.legend()\n",
    "    \n",
    "    print(f'Final Training Accuracy: {train_scores[-1] * 100}%')\n",
    "    print(f'Final Testing Accuracy: {test_scores[-1] * 100}%')"
   ]
  },
  {
   "cell_type": "markdown",
   "metadata": {},
   "source": [
    "### Models"
   ]
  },
  {
   "cell_type": "markdown",
   "metadata": {},
   "source": [
    "#### Random Forest Classifier"
   ]
  },
  {
   "cell_type": "code",
   "execution_count": 18,
   "metadata": {},
   "outputs": [
    {
     "name": "stdout",
     "output_type": "stream",
     "text": [
      "10% 20% 30% 40% 50% 60% 70% 80% 90% 100% \n",
      "Final Training Accuracy: 100.0%\n",
      "Final Testing Accuracy: 99.53874538745387%\n"
     ]
    },
    {
     "data": {
      "text/plain": [
       "RandomForestClassifier(bootstrap=True, class_weight=None, criterion='gini',\n",
       "                       max_depth=None, max_features='auto', max_leaf_nodes=None,\n",
       "                       min_impurity_decrease=0.0, min_impurity_split=None,\n",
       "                       min_samples_leaf=1, min_samples_split=2,\n",
       "                       min_weight_fraction_leaf=0.0, n_estimators=100,\n",
       "                       n_jobs=-1, oob_score=False, random_state=None, verbose=0,\n",
       "                       warm_start=False)"
      ]
     },
     "execution_count": 18,
     "metadata": {},
     "output_type": "execute_result"
    },
    {
     "data": {
      "image/png": "[encoded data removed]",
      "text/plain": [
       "<Figure size 432x288 with 1 Axes>"
      ]
     },
     "metadata": {
      "needs_background": "light"
     },
     "output_type": "display_data"
    }
   ],
   "source": [
    "rfc = RandomForestClassifier(n_estimators=100, n_jobs=-1)\n",
    "learning_curve(rfc, X_train, X_test, y_train, y_test)\n",
    "rfc.fit(X_train, y_train)"
   ]
  },
  {
   "cell_type": "markdown",
   "metadata": {},
   "source": [
    "#### Support Vector Classifier"
   ]
  },
  {
   "cell_type": "code",
   "execution_count": 19,
   "metadata": {},
   "outputs": [],
   "source": [
    "svc = SVC(gamma='auto')\n",
    "#learning_curve(svc, X_train, X_test, y_train, y_test)"
   ]
  },
  {
   "cell_type": "code",
   "execution_count": 20,
   "metadata": {},
   "outputs": [],
   "source": [
    "#clf = GridSearchCV(svc, {'C': [0.001, 0.01, 0.1, 1, 10, 100], 'kernel': ['rbf', 'linear', 'poly']}, verbose=1, n_jobs=-1)\n",
    "#clf.fit(X_train, y_train)\n",
    "#print(clf.cv_results_)\n",
    "#clf_pred = clf.predict(X_test)\n",
    "#clf_acc = accuracy_score(y_test, clf_pred)\n",
    "#print('Best Params:', clf.best_params_)\n",
    "#print('Accuracy:', clf_acc)"
   ]
  },
  {
   "cell_type": "markdown",
   "metadata": {},
   "source": [
    "### Extra Trees Classifier"
   ]
  },
  {
   "cell_type": "code",
   "execution_count": 21,
   "metadata": {},
   "outputs": [
    {
     "name": "stdout",
     "output_type": "stream",
     "text": [
      "10% 20% 30% 40% 50% 60% 70% 80% 90% 100% \n",
      "Final Training Accuracy: 100.0%\n",
      "Final Testing Accuracy: 99.72324723247232%\n"
     ]
    },
    {
     "data": {
      "text/plain": [
       "ExtraTreesClassifier(bootstrap=False, class_weight=None, criterion='gini',\n",
       "                     max_depth=None, max_features='auto', max_leaf_nodes=None,\n",
       "                     min_impurity_decrease=0.0, min_impurity_split=None,\n",
       "                     min_samples_leaf=1, min_samples_split=2,\n",
       "                     min_weight_fraction_leaf=0.0, n_estimators=100, n_jobs=-1,\n",
       "                     oob_score=False, random_state=None, verbose=0,\n",
       "                     warm_start=False)"
      ]
     },
     "execution_count": 21,
     "metadata": {},
     "output_type": "execute_result"
    },
    {
     "data": {
      "image/png": "[encoded data removed]",
      "text/plain": [
       "<Figure size 432x288 with 1 Axes>"
      ]
     },
     "metadata": {
      "needs_background": "light"
     },
     "output_type": "display_data"
    }
   ],
   "source": [
    "etc = ExtraTreesClassifier(n_estimators=100, n_jobs=-1)\n",
    "learning_curve(etc, X_train, X_test, y_train, y_test)\n",
    "etc.fit(X_train, y_train)"
   ]
  },
  {
   "cell_type": "markdown",
   "metadata": {},
   "source": [
    "### Save"
   ]
  },
  {
   "cell_type": "code",
   "execution_count": 22,
   "metadata": {},
   "outputs": [],
   "source": [
    "with open('X', 'wb') as file: pickle.dump(X, file)\n",
    "    \n",
    "with open('y', 'wb') as file: pickle.dump(y, file)\n",
    "    \n",
    "with open('gloss_map', 'wb') as file: pickle.dump(gloss_map, file)\n",
    "    \n",
    "with open('rfc', 'wb') as file: pickle.dump(rfc, file)\n",
    "    \n",
    "#with open('clf', 'wb') as file: pickle.dump(clf, file)\n",
    "\n",
    "with open('etc', 'wb') as file: pickle.dump(etc, file)"
   ]
  },
  {
   "cell_type": "code",
   "execution_count": null,
   "metadata": {},
   "outputs": [],
   "source": []
  }
 ],
 "metadata": {
  "kernelspec": {
   "display_name": "p2-unsigned-cpu",
   "language": "python",
   "name": "p2-unsigned-cpu"
  },
  "language_info": {
   "codemirror_mode": {
    "name": "ipython",
    "version": 3
   },
   "file_extension": ".py",
   "mimetype": "text/x-python",
   "name": "python",
   "nbconvert_exporter": "python",
   "pygments_lexer": "ipython3",
   "version": "3.7.5"
  }
 },
 "nbformat": 4,
 "nbformat_minor": 4
}
